{
 "cells": [
  {
   "cell_type": "code",
   "execution_count": 1,
   "metadata": {},
   "outputs": [
    {
     "name": "stdout",
     "output_type": "stream",
     "text": [
      "Initial DataFrame:\n",
      "                   League                    Team\n",
      "0  English Premier League                 Arsenal\n",
      "1  English Premier League             Aston Villa\n",
      "2  English Premier League             Bournemouth\n",
      "3  English Premier League               Brentford\n",
      "4  English Premier League  Brighton & Hove Albion\n",
      "\n",
      "Missing data in each column:\n",
      "League    0\n",
      "Team      0\n",
      "dtype: int64\n",
      "\n",
      "DataFrame after handling missing data:\n",
      "                   League                    Team\n",
      "0  English Premier League                 Arsenal\n",
      "1  English Premier League             Aston Villa\n",
      "2  English Premier League             Bournemouth\n",
      "3  English Premier League               Brentford\n",
      "4  English Premier League  Brighton & Hove Albion\n"
     ]
    }
   ],
   "source": [
    "import pandas as pd\n",
    "\n",
    "# (a) Load the dataset into a Pandas DataFrame\n",
    "# Assuming the dataset is named 'data.csv' and is located in the same directory\n",
    "df = pd.read_csv('football_teams_top_european_leagues.csv')\n",
    "\n",
    "# Display the first few rows of the dataframe\n",
    "print(\"Initial DataFrame:\")\n",
    "print(df.head())\n",
    "\n",
    "# (b) Identify and handle missing data by imputing the mean of the relevant columns\n",
    "\n",
    "# Check for missing data\n",
    "missing_data = df.isnull().sum()\n",
    "print(\"\\nMissing data in each column:\")\n",
    "print(missing_data)\n",
    "\n",
    "# Impute missing values with the mean (for numerical columns only)\n",
    "# Since this dataset contains only categorical data, there's no need for mean imputation.\n",
    "# However, if there were numerical columns, you would impute them like this:\n",
    "\n",
    "# df.fillna(df.mean(), inplace=True)\n",
    "\n",
    "# After handling missing data\n",
    "print(\"\\nDataFrame after handling missing data:\")\n",
    "print(df.head())\n"
   ]
  }
 ],
 "metadata": {
  "kernelspec": {
   "display_name": "Python 3",
   "language": "python",
   "name": "python3"
  },
  "language_info": {
   "codemirror_mode": {
    "name": "ipython",
    "version": 3
   },
   "file_extension": ".py",
   "mimetype": "text/x-python",
   "name": "python",
   "nbconvert_exporter": "python",
   "pygments_lexer": "ipython3",
   "version": "3.11.1"
  }
 },
 "nbformat": 4,
 "nbformat_minor": 2
}
