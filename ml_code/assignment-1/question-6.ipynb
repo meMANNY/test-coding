{
 "cells": [
  {
   "cell_type": "code",
   "execution_count": 4,
   "metadata": {},
   "outputs": [
    {
     "name": "stdout",
     "output_type": "stream",
     "text": [
      "Eigenvalues of X^T X:\n",
      "[  0. 150.]\n",
      "\n",
      "Eigenvectors of X^T X:\n",
      "[[-0.89442719 -0.4472136 ]\n",
      " [ 0.4472136  -0.89442719]]\n",
      "\n",
      "Dot products of eigenvectors:\n",
      "[[ 1.00000000e+00 -1.25949234e-17]\n",
      " [-1.25949234e-17  1.00000000e+00]]\n",
      "\n",
      "Theta (parameters including bias) using pseudo-inverse:\n",
      "[[5.36237721e-14]\n",
      " [1.00000000e+00]\n",
      " [2.00000000e+00]]\n"
     ]
    }
   ],
   "source": [
    "import numpy as np\n",
    "\n",
    "# Define the matrix X and vector y\n",
    "X = np.array([[1, 2],\n",
    "        [2, 4],\n",
    "            [3, 6],\n",
    "            [4, 8]])\n",
    "\n",
    "y = np.array([[5],\n",
    "            [10],\n",
    "            [15],\n",
    "            [20]])\n",
    "\n",
    "# Step 1: Compute X^T X\n",
    "XTX = np.dot(X.T, X)\n",
    "\n",
    "# Compute eigenvalues and eigenvectors of X^T X\n",
    "eigenvalues, eigenvectors = np.linalg.eig(XTX)\n",
    "\n",
    "# Step 2: Compute dot products of the eigenvectors\n",
    "dot_products = np.dot(eigenvectors.T, eigenvectors)\n",
    "\n",
    "# Step 3: Add a column of ones to X to account for the bias term\n",
    "X_with_bias = np.hstack((np.ones((X.shape[0], 1)), X))\n",
    "\n",
    "# Compute theta using the pseudo-inverse due to singular matrix issue\n",
    "XTX_with_bias = np.dot(X_with_bias.T, X_with_bias)\n",
    "XTy_with_bias = np.dot(X_with_bias.T, y)\n",
    "theta_pseudo = np.linalg.pinv(XTX_with_bias).dot(XTy_with_bias)\n",
    "\n",
    "# Output the results\n",
    "print(\"Eigenvalues of X^T X:\")\n",
    "print(eigenvalues)\n",
    "print(\"\\nEigenvectors of X^T X:\")\n",
    "print(eigenvectors)\n",
    "print(\"\\nDot products of eigenvectors:\")\n",
    "print(dot_products)\n",
    "print(\"\\nTheta (parameters including bias) using pseudo-inverse:\")\n",
    "print(theta_pseudo)"
   ]
  }
 ],
 "metadata": {
  "kernelspec": {
   "display_name": "Python 3",
   "language": "python",
   "name": "python3"
  },
  "language_info": {
   "codemirror_mode": {
    "name": "ipython",
    "version": 3
   },
   "file_extension": ".py",
   "mimetype": "text/x-python",
   "name": "python",
   "nbconvert_exporter": "python",
   "pygments_lexer": "ipython3",
   "version": "3.11.1"
  }
 },
 "nbformat": 4,
 "nbformat_minor": 2
}
