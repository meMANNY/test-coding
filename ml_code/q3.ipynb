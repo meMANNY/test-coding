{
 "cells": [
  {
   "cell_type": "code",
   "execution_count": null,
   "metadata": {
    "vscode": {
     "languageId": "plaintext"
    }
   },
   "outputs": [],
   "source": [
    "#question 2:-\n",
    "from math import factorial\n",
    "\n",
    "\n",
    "def erlang_b(A, C):\n",
    "    numerator = (A**C) / factorial(C)\n",
    "    denominator = sum((A**k) / factorial(k) for k in range(C + 1))\n",
    "    return numerator / denominator\n",
    "\n",
    "\n",
    "A = 180  # Load offered as given in question\n",
    "C = 200  # Number of servers which is same as number of circuits given in question\n",
    "\n",
    "prob_block = erlang_b(A, C)\n",
    "print(f\"Blocking Probability for M/M/{C}/{C}  system with offred traffic {A} is: {prob_block:.6f} or {prob_block * 100}% \")\n",
    "\n",
    "#code for finding the no of channels to be added to make the blocking probability less than 1%\n",
    "\n",
    "\n",
    "target_blocking_probability = 0.01  \n",
    "\n",
    "while erlang_b(A, C) > target_blocking_probability:\n",
    "    C += 1\n",
    "print(f\"The smallest number of circuits that should be added to meet the 1% requirement is {C-200}\")"
   ]
  }
 ],
 "metadata": {
  "language_info": {
   "name": "python"
  }
 },
 "nbformat": 4,
 "nbformat_minor": 2
}
